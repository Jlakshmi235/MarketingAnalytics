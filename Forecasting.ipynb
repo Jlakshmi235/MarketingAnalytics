{
 "cells": [
  {
   "cell_type": "code",
   "execution_count": 1,
   "metadata": {},
   "outputs": [],
   "source": [
    "from statsmodels.tsa.api import ExponentialSmoothing, SimpleExpSmoothing\n",
    "import numpy as np\n",
    "import pandas as pd\n",
    "import matplotlib.pyplot as plt"
   ]
  },
  {
   "cell_type": "code",
   "execution_count": 2,
   "metadata": {},
   "outputs": [
    {
     "data": {
      "text/html": [
       "<div>\n",
       "<style scoped>\n",
       "    .dataframe tbody tr th:only-of-type {\n",
       "        vertical-align: middle;\n",
       "    }\n",
       "\n",
       "    .dataframe tbody tr th {\n",
       "        vertical-align: top;\n",
       "    }\n",
       "\n",
       "    .dataframe thead th {\n",
       "        text-align: right;\n",
       "    }\n",
       "</style>\n",
       "<table border=\"1\" class=\"dataframe\">\n",
       "  <thead>\n",
       "    <tr style=\"text-align: right;\">\n",
       "      <th></th>\n",
       "      <th>Revenue</th>\n",
       "      <th>Operating Expenses</th>\n",
       "      <th>Operating Income</th>\n",
       "      <th>Net income</th>\n",
       "    </tr>\n",
       "    <tr>\n",
       "      <th>Date</th>\n",
       "      <th></th>\n",
       "      <th></th>\n",
       "      <th></th>\n",
       "      <th></th>\n",
       "    </tr>\n",
       "  </thead>\n",
       "  <tbody>\n",
       "    <tr>\n",
       "      <th>2012-12-31</th>\n",
       "      <td>5819047</td>\n",
       "      <td>5840686</td>\n",
       "      <td>-21639</td>\n",
       "      <td>-161897</td>\n",
       "    </tr>\n",
       "    <tr>\n",
       "      <th>2013-12-31</th>\n",
       "      <td>6478547</td>\n",
       "      <td>6338887</td>\n",
       "      <td>139660</td>\n",
       "      <td>-36015</td>\n",
       "    </tr>\n",
       "    <tr>\n",
       "      <th>2014-12-31</th>\n",
       "      <td>6866964</td>\n",
       "      <td>6859800</td>\n",
       "      <td>7164</td>\n",
       "      <td>-104450</td>\n",
       "    </tr>\n",
       "    <tr>\n",
       "      <th>2015-12-31</th>\n",
       "      <td>7245731</td>\n",
       "      <td>7114359</td>\n",
       "      <td>131372</td>\n",
       "      <td>-15769</td>\n",
       "    </tr>\n",
       "    <tr>\n",
       "      <th>2016-12-31</th>\n",
       "      <td>7826336</td>\n",
       "      <td>7631396</td>\n",
       "      <td>194940</td>\n",
       "      <td>20297</td>\n",
       "    </tr>\n",
       "    <tr>\n",
       "      <th>2017-12-31</th>\n",
       "      <td>9687222</td>\n",
       "      <td>9595825</td>\n",
       "      <td>91397</td>\n",
       "      <td>7774</td>\n",
       "    </tr>\n",
       "    <tr>\n",
       "      <th>2018-12-31</th>\n",
       "      <td>10787800</td>\n",
       "      <td>10515264</td>\n",
       "      <td>272536</td>\n",
       "      <td>90340</td>\n",
       "    </tr>\n",
       "    <tr>\n",
       "      <th>2019-12-31</th>\n",
       "      <td>11547969</td>\n",
       "      <td>11223125</td>\n",
       "      <td>324844</td>\n",
       "      <td>118212</td>\n",
       "    </tr>\n",
       "    <tr>\n",
       "      <th>2020-12-31</th>\n",
       "      <td>1861178</td>\n",
       "      <td>3514370</td>\n",
       "      <td>-1653192</td>\n",
       "      <td>-1827790</td>\n",
       "    </tr>\n",
       "    <tr>\n",
       "      <th>2021-12-31</th>\n",
       "      <td>6268447</td>\n",
       "      <td>6686305</td>\n",
       "      <td>-417858</td>\n",
       "      <td>-608786</td>\n",
       "    </tr>\n",
       "  </tbody>\n",
       "</table>\n",
       "</div>"
      ],
      "text/plain": [
       "             Revenue  Operating Expenses  Operating Income  Net income\n",
       "Date                                                                  \n",
       "2012-12-31   5819047             5840686            -21639     -161897\n",
       "2013-12-31   6478547             6338887            139660      -36015\n",
       "2014-12-31   6866964             6859800              7164     -104450\n",
       "2015-12-31   7245731             7114359            131372      -15769\n",
       "2016-12-31   7826336             7631396            194940       20297\n",
       "2017-12-31   9687222             9595825             91397        7774\n",
       "2018-12-31  10787800            10515264            272536       90340\n",
       "2019-12-31  11547969            11223125            324844      118212\n",
       "2020-12-31   1861178             3514370          -1653192    -1827790\n",
       "2021-12-31   6268447             6686305           -417858     -608786"
      ]
     },
     "execution_count": 2,
     "metadata": {},
     "output_type": "execute_result"
    }
   ],
   "source": [
    "lyv = pd.read_csv('livenation.csv', index_col='Date', parse_dates=True)\n",
    "lyv = lyv.asfreq('A')\n",
    "lyv"
   ]
  },
  {
   "cell_type": "code",
   "execution_count": 3,
   "metadata": {},
   "outputs": [
    {
     "name": "stdout",
     "output_type": "stream",
     "text": [
      "<class 'pandas.core.frame.DataFrame'>\n",
      "DatetimeIndex: 10 entries, 2012-12-31 to 2021-12-31\n",
      "Freq: A-DEC\n",
      "Data columns (total 4 columns):\n",
      " #   Column              Non-Null Count  Dtype\n",
      "---  ------              --------------  -----\n",
      " 0   Revenue             10 non-null     int64\n",
      " 1   Operating Expenses  10 non-null     int64\n",
      " 2   Operating Income    10 non-null     int64\n",
      " 3   Net income          10 non-null     int64\n",
      "dtypes: int64(4)\n",
      "memory usage: 400.0 bytes\n"
     ]
    }
   ],
   "source": [
    "lyv.info()"
   ]
  },
  {
   "cell_type": "code",
   "execution_count": 4,
   "metadata": {},
   "outputs": [
    {
     "data": {
      "text/html": [
       "<div>\n",
       "<style scoped>\n",
       "    .dataframe tbody tr th:only-of-type {\n",
       "        vertical-align: middle;\n",
       "    }\n",
       "\n",
       "    .dataframe tbody tr th {\n",
       "        vertical-align: top;\n",
       "    }\n",
       "\n",
       "    .dataframe thead th {\n",
       "        text-align: right;\n",
       "    }\n",
       "</style>\n",
       "<table border=\"1\" class=\"dataframe\">\n",
       "  <thead>\n",
       "    <tr style=\"text-align: right;\">\n",
       "      <th></th>\n",
       "      <th>Revenue</th>\n",
       "      <th>Operating Expenses</th>\n",
       "      <th>Operating Income</th>\n",
       "      <th>Net income</th>\n",
       "    </tr>\n",
       "  </thead>\n",
       "  <tbody>\n",
       "    <tr>\n",
       "      <th>count</th>\n",
       "      <td>1.000000e+01</td>\n",
       "      <td>1.000000e+01</td>\n",
       "      <td>1.000000e+01</td>\n",
       "      <td>1.000000e+01</td>\n",
       "    </tr>\n",
       "    <tr>\n",
       "      <th>mean</th>\n",
       "      <td>7.438924e+06</td>\n",
       "      <td>7.532002e+06</td>\n",
       "      <td>-9.307760e+04</td>\n",
       "      <td>-2.518084e+05</td>\n",
       "    </tr>\n",
       "    <tr>\n",
       "      <th>std</th>\n",
       "      <td>2.782808e+06</td>\n",
       "      <td>2.322843e+06</td>\n",
       "      <td>5.854203e+05</td>\n",
       "      <td>5.905399e+05</td>\n",
       "    </tr>\n",
       "    <tr>\n",
       "      <th>min</th>\n",
       "      <td>1.861178e+06</td>\n",
       "      <td>3.514370e+06</td>\n",
       "      <td>-1.653192e+06</td>\n",
       "      <td>-1.827790e+06</td>\n",
       "    </tr>\n",
       "    <tr>\n",
       "      <th>25%</th>\n",
       "      <td>6.320972e+06</td>\n",
       "      <td>6.425742e+06</td>\n",
       "      <td>-1.443825e+04</td>\n",
       "      <td>-1.475352e+05</td>\n",
       "    </tr>\n",
       "    <tr>\n",
       "      <th>50%</th>\n",
       "      <td>7.056348e+06</td>\n",
       "      <td>6.987080e+06</td>\n",
       "      <td>1.113845e+05</td>\n",
       "      <td>-2.589200e+04</td>\n",
       "    </tr>\n",
       "    <tr>\n",
       "      <th>75%</th>\n",
       "      <td>9.222000e+06</td>\n",
       "      <td>9.104718e+06</td>\n",
       "      <td>1.811200e+05</td>\n",
       "      <td>1.716625e+04</td>\n",
       "    </tr>\n",
       "    <tr>\n",
       "      <th>max</th>\n",
       "      <td>1.154797e+07</td>\n",
       "      <td>1.122312e+07</td>\n",
       "      <td>3.248440e+05</td>\n",
       "      <td>1.182120e+05</td>\n",
       "    </tr>\n",
       "  </tbody>\n",
       "</table>\n",
       "</div>"
      ],
      "text/plain": [
       "            Revenue  Operating Expenses  Operating Income    Net income\n",
       "count  1.000000e+01        1.000000e+01      1.000000e+01  1.000000e+01\n",
       "mean   7.438924e+06        7.532002e+06     -9.307760e+04 -2.518084e+05\n",
       "std    2.782808e+06        2.322843e+06      5.854203e+05  5.905399e+05\n",
       "min    1.861178e+06        3.514370e+06     -1.653192e+06 -1.827790e+06\n",
       "25%    6.320972e+06        6.425742e+06     -1.443825e+04 -1.475352e+05\n",
       "50%    7.056348e+06        6.987080e+06      1.113845e+05 -2.589200e+04\n",
       "75%    9.222000e+06        9.104718e+06      1.811200e+05  1.716625e+04\n",
       "max    1.154797e+07        1.122312e+07      3.248440e+05  1.182120e+05"
      ]
     },
     "execution_count": 4,
     "metadata": {},
     "output_type": "execute_result"
    }
   ],
   "source": [
    "lyv.describe()"
   ]
  },
  {
   "cell_type": "code",
   "execution_count": 5,
   "metadata": {},
   "outputs": [
    {
     "data": {
      "image/png": "[encoded data removed]",
      "text/plain": [
       "<Figure size 432x288 with 1 Axes>"
      ]
     },
     "metadata": {
      "needs_background": "light"
     },
     "output_type": "display_data"
    }
   ],
   "source": [
    "lyv['Net income'].plot(title= 'Live Nation Net income for last 10 years', \n",
    "                       ylabel= 'Net income (in millions $)');"
   ]
  },
  {
   "cell_type": "markdown",
   "metadata": {},
   "source": [
    "No trend or seasonality in this data."
   ]
  },
  {
   "cell_type": "code",
   "execution_count": 6,
   "metadata": {},
   "outputs": [
    {
     "name": "stderr",
     "output_type": "stream",
     "text": [
      "/Users/jayalakshmijain/opt/anaconda3/lib/python3.8/site-packages/statsmodels/tsa/holtwinters/model.py:427: FutureWarning: After 0.13 initialization must be handled at model creation\n",
      "  warnings.warn(\n"
     ]
    }
   ],
   "source": [
    "alpha = 0.2\n",
    "model = SimpleExpSmoothing(lyv['Net income']).fit(alpha)\n",
    "test_predictions = model.forecast(1).rename ('2022 Forecast')"
   ]
  },
  {
   "cell_type": "code",
   "execution_count": 7,
   "metadata": {},
   "outputs": [
    {
     "data": {
      "text/plain": [
       "2022-12-31   -416229.763738\n",
       "Freq: A-DEC, Name: 2022 Forecast, dtype: float64"
      ]
     },
     "execution_count": 7,
     "metadata": {},
     "output_type": "execute_result"
    }
   ],
   "source": [
    "test_predictions"
   ]
  },
  {
   "cell_type": "code",
   "execution_count": 8,
   "metadata": {},
   "outputs": [
    {
     "data": {
      "image/png": "[encoded data removed]",
      "text/plain": [
       "<Figure size 432x288 with 1 Axes>"
      ]
     },
     "metadata": {
      "needs_background": "light"
     },
     "output_type": "display_data"
    }
   ],
   "source": [
    "lyv['Net income'].plot(legend=True,label='Actual Data');\n",
    "test_predictions.plot(legend=True,label='Predictions', marker=\"*\",markersize=10);\n",
    "plt.xlim(pd.Timestamp('2012-12-31'), pd.Timestamp('2023-07-01'));\n",
    "plt.title('Live Nation 2022 Net income forecast');\n",
    "plt.ylabel('Net income (in millions $)');\n",
    "plt.legend();"
   ]
  },
  {
   "cell_type": "markdown",
   "metadata": {},
   "source": [
    "Forecasting Write Up:\n",
    "\n",
    "The data used in this file was obtained from 10-K annual reports filed by Live Nation. 10 years worth of net income data was extracted to feed into our forecasting model. An upward trend can be seen from 2012-2019. However, 2020-21 numbers are anomalous compared to the previous 8 years which is probably due to the effects of COVID. There is no overall trend. There are no repeating patterns observed at regular intervals, hence no overall seasonality observed. This makes it ideal to use Simple Exponential Smoothing to forecast the 2022 net income. We set the alpha at 0.2 to account for potential recovery in 2022 while placing some importance on recent changes due to COVID. The closer the alpha is to 1, the more weight on recent observations (when alpha = 1, 2022 forecast is same as 2021 net income). The closer alpha is to 0, the more the forecast shows long term tendency of the time series (when alpha = 0, 2022 forecast is mean of net income 2012-2021). Using the forecasting model, we determined that the predicted net income for 2022 is -416229.763. The entertainment industry took a big hit during COVID-19 epidemic (as seen in 2020, 2021 net loss). However, with restrictions and mandates beginning to relax, we see signs of recovery in the industry. With people resuming travelling, artists going back on tour, resumping live sporting event and more, we expect Live Nation to have a positive net income by the end of 2023.\n"
   ]
  },
  {
   "cell_type": "code",
   "execution_count": null,
   "metadata": {},
   "outputs": [],
   "source": []
  }
 ],
 "metadata": {
  "kernelspec": {
   "display_name": "Python 3",
   "language": "python",
   "name": "python3"
  },
  "language_info": {
   "codemirror_mode": {
    "name": "ipython",
    "version": 3
   },
   "file_extension": ".py",
   "mimetype": "text/x-python",
   "name": "python",
   "nbconvert_exporter": "python",
   "pygments_lexer": "ipython3",
   "version": "3.8.5"
  }
 },
 "nbformat": 4,
 "nbformat_minor": 4
}
