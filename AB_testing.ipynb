{
 "cells": [
  {
   "cell_type": "code",
   "execution_count": 1,
   "metadata": {},
   "outputs": [],
   "source": [
    "import pandas as pd"
   ]
  },
  {
   "cell_type": "code",
   "execution_count": 2,
   "metadata": {},
   "outputs": [],
   "source": [
    "pics_df = pd.read_csv(\"C:/Users/cvbat/Downloads/concert_pics.csv\")"
   ]
  },
  {
   "cell_type": "code",
   "execution_count": 3,
   "metadata": {},
   "outputs": [
    {
     "data": {
      "text/html": [
       "<div>\n",
       "<style scoped>\n",
       "    .dataframe tbody tr th:only-of-type {\n",
       "        vertical-align: middle;\n",
       "    }\n",
       "\n",
       "    .dataframe tbody tr th {\n",
       "        vertical-align: top;\n",
       "    }\n",
       "\n",
       "    .dataframe thead th {\n",
       "        text-align: right;\n",
       "    }\n",
       "</style>\n",
       "<table border=\"1\" class=\"dataframe\">\n",
       "  <thead>\n",
       "    <tr style=\"text-align: right;\">\n",
       "      <th></th>\n",
       "      <th>recipient</th>\n",
       "      <th>site_duration</th>\n",
       "      <th>spend</th>\n",
       "      <th>register</th>\n",
       "    </tr>\n",
       "  </thead>\n",
       "  <tbody>\n",
       "    <tr>\n",
       "      <th>count</th>\n",
       "      <td>3400.000000</td>\n",
       "      <td>3400.000000</td>\n",
       "      <td>3400.000000</td>\n",
       "      <td>3400.000000</td>\n",
       "    </tr>\n",
       "    <tr>\n",
       "      <th>mean</th>\n",
       "      <td>1700.500000</td>\n",
       "      <td>16.879529</td>\n",
       "      <td>14.842088</td>\n",
       "      <td>0.357059</td>\n",
       "    </tr>\n",
       "    <tr>\n",
       "      <th>std</th>\n",
       "      <td>981.639785</td>\n",
       "      <td>5.543245</td>\n",
       "      <td>2.359465</td>\n",
       "      <td>0.479203</td>\n",
       "    </tr>\n",
       "    <tr>\n",
       "      <th>min</th>\n",
       "      <td>1.000000</td>\n",
       "      <td>5.900000</td>\n",
       "      <td>5.600000</td>\n",
       "      <td>0.000000</td>\n",
       "    </tr>\n",
       "    <tr>\n",
       "      <th>25%</th>\n",
       "      <td>850.750000</td>\n",
       "      <td>11.200000</td>\n",
       "      <td>13.200000</td>\n",
       "      <td>0.000000</td>\n",
       "    </tr>\n",
       "    <tr>\n",
       "      <th>50%</th>\n",
       "      <td>1700.500000</td>\n",
       "      <td>16.700000</td>\n",
       "      <td>15.200000</td>\n",
       "      <td>0.000000</td>\n",
       "    </tr>\n",
       "    <tr>\n",
       "      <th>75%</th>\n",
       "      <td>2550.250000</td>\n",
       "      <td>22.000000</td>\n",
       "      <td>16.700000</td>\n",
       "      <td>1.000000</td>\n",
       "    </tr>\n",
       "    <tr>\n",
       "      <th>max</th>\n",
       "      <td>3400.000000</td>\n",
       "      <td>31.100000</td>\n",
       "      <td>22.300000</td>\n",
       "      <td>1.000000</td>\n",
       "    </tr>\n",
       "  </tbody>\n",
       "</table>\n",
       "</div>"
      ],
      "text/plain": [
       "         recipient  site_duration        spend     register\n",
       "count  3400.000000    3400.000000  3400.000000  3400.000000\n",
       "mean   1700.500000      16.879529    14.842088     0.357059\n",
       "std     981.639785       5.543245     2.359465     0.479203\n",
       "min       1.000000       5.900000     5.600000     0.000000\n",
       "25%     850.750000      11.200000    13.200000     0.000000\n",
       "50%    1700.500000      16.700000    15.200000     0.000000\n",
       "75%    2550.250000      22.000000    16.700000     1.000000\n",
       "max    3400.000000      31.100000    22.300000     1.000000"
      ]
     },
     "execution_count": 3,
     "metadata": {},
     "output_type": "execute_result"
    }
   ],
   "source": [
    "pics_df.describe()"
   ]
  },
  {
   "cell_type": "code",
   "execution_count": 4,
   "metadata": {},
   "outputs": [
    {
     "name": "stdout",
     "output_type": "stream",
     "text": [
      "<class 'pandas.core.frame.DataFrame'>\n",
      "RangeIndex: 3400 entries, 0 to 3399\n",
      "Data columns (total 5 columns):\n",
      " #   Column         Non-Null Count  Dtype  \n",
      "---  ------         --------------  -----  \n",
      " 0   recipient      3400 non-null   int64  \n",
      " 1   pic_seen       3400 non-null   object \n",
      " 2   site_duration  3400 non-null   float64\n",
      " 3   spend          3400 non-null   float64\n",
      " 4   register       3400 non-null   int64  \n",
      "dtypes: float64(2), int64(2), object(1)\n",
      "memory usage: 132.9+ KB\n"
     ]
    }
   ],
   "source": [
    "pics_df.info()"
   ]
  },
  {
   "cell_type": "markdown",
   "metadata": {},
   "source": [
    "### T test for site duration"
   ]
  },
  {
   "cell_type": "code",
   "execution_count": 5,
   "metadata": {},
   "outputs": [
    {
     "name": "stdout",
     "output_type": "stream",
     "text": [
      "44.69875836486094 2.3628268572e-313\n"
     ]
    }
   ],
   "source": [
    "from scipy import stats\n",
    "t,p=stats.ttest_ind(pics_df.loc[pics_df['pic_seen']=='Chili_Peppers', 'site_duration'].values, \n",
    "                    pics_df.loc[pics_df['pic_seen']=='Foo', 'site_duration'].values, alternative='greater')\n",
    "print(t,p)"
   ]
  },
  {
   "cell_type": "markdown",
   "metadata": {},
   "source": [
    "We can reject the null hypothesis that there is no difference in the site duration for the people being shown the chili peppers picture versus the Foo picture. The audience that is shown the Chili Peppers is on the site for longer. "
   ]
  },
  {
   "cell_type": "code",
   "execution_count": 6,
   "metadata": {},
   "outputs": [
    {
     "name": "stdout",
     "output_type": "stream",
     "text": [
      "180.71977956194002 0.0\n"
     ]
    }
   ],
   "source": [
    "t,p=stats.ttest_ind(pics_df.loc[pics_df['pic_seen']=='Chili_Peppers', 'site_duration'].values, \n",
    "                    pics_df.loc[pics_df['pic_seen']=='Billie', 'site_duration'].values, alternative='greater')\n",
    "print(t,p)"
   ]
  },
  {
   "cell_type": "markdown",
   "metadata": {},
   "source": [
    "We can reject the null hypothesis that there is no difference in the site duration for the people that are shown the Chili Peppers versus Billie picture. The people that are shown the Chili Peppers picture are on the site for longer than the people shown the Billie picture. "
   ]
  },
  {
   "cell_type": "code",
   "execution_count": 7,
   "metadata": {},
   "outputs": [
    {
     "name": "stdout",
     "output_type": "stream",
     "text": [
      "49.74338210092722 0.0\n"
     ]
    }
   ],
   "source": [
    "t,p=stats.ttest_ind(pics_df.loc[pics_df['pic_seen']=='Foo', 'site_duration'].values, \n",
    "                    pics_df.loc[pics_df['pic_seen']=='Billie', 'site_duration'].values, alternative='greater')\n",
    "print(t,p)"
   ]
  },
  {
   "cell_type": "markdown",
   "metadata": {},
   "source": [
    "From the 3 statistical tests ran above, we can draw the conclusion that the picture associated with the longest site duration is the Chili Peppers picture. "
   ]
  },
  {
   "cell_type": "markdown",
   "metadata": {},
   "source": [
    "### T test for expenditure"
   ]
  },
  {
   "cell_type": "code",
   "execution_count": 8,
   "metadata": {},
   "outputs": [
    {
     "name": "stdout",
     "output_type": "stream",
     "text": [
      "40.53370629078891 1.2166957076170767e-270\n"
     ]
    }
   ],
   "source": [
    "t,p=stats.ttest_ind(pics_df.loc[pics_df['pic_seen']=='Chili_Peppers', 'spend'].values, \n",
    "                    pics_df.loc[pics_df['pic_seen']=='Foo', 'spend'].values, alternative='greater')\n",
    "print(t,p)"
   ]
  },
  {
   "cell_type": "markdown",
   "metadata": {},
   "source": [
    "From this we can reject the null and draw the conclusion that the users who view the Chili Peppers pictures spend more than the customers who view the Foo picture. "
   ]
  },
  {
   "cell_type": "code",
   "execution_count": 9,
   "metadata": {},
   "outputs": [
    {
     "name": "stdout",
     "output_type": "stream",
     "text": [
      "38.72732393927884 3.7063929654259143e-252\n"
     ]
    }
   ],
   "source": [
    "t,p=stats.ttest_ind(pics_df.loc[pics_df['pic_seen']=='Chili_Peppers', 'spend'].values, \n",
    "                    pics_df.loc[pics_df['pic_seen']=='Billie', 'spend'].values, alternative='greater')\n",
    "print(t,p)"
   ]
  },
  {
   "cell_type": "markdown",
   "metadata": {},
   "source": [
    "From this we can reject the null and draw the conclusion that the users who view the Chili Peppers pictures spend more than the customers who view the Billie picture"
   ]
  },
  {
   "cell_type": "code",
   "execution_count": 10,
   "metadata": {},
   "outputs": [
    {
     "name": "stdout",
     "output_type": "stream",
     "text": [
      "2.40996734463924 0.00801620374264992\n"
     ]
    }
   ],
   "source": [
    "t,p=stats.ttest_ind(pics_df.loc[pics_df['pic_seen']=='Foo', 'spend'].values, \n",
    "                    pics_df.loc[pics_df['pic_seen']=='Billie', 'spend'].values, alternative='greater')\n",
    "print(t,p)"
   ]
  },
  {
   "cell_type": "markdown",
   "metadata": {},
   "source": [
    "From all these statistical tests ran, we can draw the conclusion that we should show the Chili Peppers picture to our customers as that will likely generate more site duration and spending."
   ]
  },
  {
   "cell_type": "markdown",
   "metadata": {},
   "source": [
    "Null hypothesis: Picture does not impact the likelihood of registration"
   ]
  },
  {
   "cell_type": "markdown",
   "metadata": {},
   "source": [
    "### Chi squared test for registation"
   ]
  },
  {
   "cell_type": "code",
   "execution_count": 6,
   "metadata": {},
   "outputs": [
    {
     "data": {
      "text/html": [
       "<div>\n",
       "<style scoped>\n",
       "    .dataframe tbody tr th:only-of-type {\n",
       "        vertical-align: middle;\n",
       "    }\n",
       "\n",
       "    .dataframe tbody tr th {\n",
       "        vertical-align: top;\n",
       "    }\n",
       "\n",
       "    .dataframe thead th {\n",
       "        text-align: right;\n",
       "    }\n",
       "</style>\n",
       "<table border=\"1\" class=\"dataframe\">\n",
       "  <thead>\n",
       "    <tr style=\"text-align: right;\">\n",
       "      <th>register</th>\n",
       "      <th>0</th>\n",
       "      <th>1</th>\n",
       "    </tr>\n",
       "    <tr>\n",
       "      <th>pic_seen</th>\n",
       "      <th></th>\n",
       "      <th></th>\n",
       "    </tr>\n",
       "  </thead>\n",
       "  <tbody>\n",
       "    <tr>\n",
       "      <th>Billie</th>\n",
       "      <td>666</td>\n",
       "      <td>476</td>\n",
       "    </tr>\n",
       "    <tr>\n",
       "      <th>Chili_Peppers</th>\n",
       "      <td>764</td>\n",
       "      <td>346</td>\n",
       "    </tr>\n",
       "    <tr>\n",
       "      <th>Foo</th>\n",
       "      <td>756</td>\n",
       "      <td>392</td>\n",
       "    </tr>\n",
       "  </tbody>\n",
       "</table>\n",
       "</div>"
      ],
      "text/plain": [
       "register         0    1\n",
       "pic_seen               \n",
       "Billie         666  476\n",
       "Chili_Peppers  764  346\n",
       "Foo            756  392"
      ]
     },
     "execution_count": 6,
     "metadata": {},
     "output_type": "execute_result"
    }
   ],
   "source": [
    "pd.crosstab(pics_df['pic_seen'], pics_df['register'])"
   ]
  },
  {
   "cell_type": "code",
   "execution_count": 7,
   "metadata": {},
   "outputs": [
    {
     "data": {
      "text/plain": [
       "Foo              0.337647\n",
       "Billie           0.335882\n",
       "Chili_Peppers    0.326471\n",
       "Name: pic_seen, dtype: float64"
      ]
     },
     "execution_count": 7,
     "metadata": {},
     "output_type": "execute_result"
    }
   ],
   "source": [
    "pd.value_counts(pics_df['pic_seen'], normalize=True)"
   ]
  },
  {
   "cell_type": "code",
   "execution_count": 8,
   "metadata": {},
   "outputs": [
    {
     "data": {
      "text/plain": [
       "0    2186\n",
       "1    1214\n",
       "Name: register, dtype: int64"
      ]
     },
     "execution_count": 8,
     "metadata": {},
     "output_type": "execute_result"
    }
   ],
   "source": [
    "pd.value_counts(pics_df['register'])"
   ]
  },
  {
   "cell_type": "code",
   "execution_count": 9,
   "metadata": {},
   "outputs": [],
   "source": [
    "Foo_expect1=1214* 0.337647"
   ]
  },
  {
   "cell_type": "code",
   "execution_count": 10,
   "metadata": {},
   "outputs": [],
   "source": [
    "Billie_expect1 = 1214*0.335882"
   ]
  },
  {
   "cell_type": "code",
   "execution_count": 11,
   "metadata": {},
   "outputs": [],
   "source": [
    "Chili_Peppers_expect1=1214*0.326471"
   ]
  },
  {
   "cell_type": "code",
   "execution_count": 12,
   "metadata": {},
   "outputs": [],
   "source": [
    "import numpy as np\n",
    "import scipy.stats"
   ]
  },
  {
   "cell_type": "code",
   "execution_count": 13,
   "metadata": {},
   "outputs": [
    {
     "data": {
      "text/plain": [
       "Power_divergenceResult(statistic=18.59468652632917, pvalue=9.166744453507959e-05)"
      ]
     },
     "execution_count": 13,
     "metadata": {},
     "output_type": "execute_result"
    }
   ],
   "source": [
    "observed_values=np.array([476, 346, 392])\n",
    "expected_values=np.array([Billie_expect1, Chili_Peppers_expect1, Foo_expect1])\n",
    "\n",
    "scipy.stats.chisquare(observed_values, f_exp=expected_values)"
   ]
  },
  {
   "cell_type": "markdown",
   "metadata": {},
   "source": [
    "The null hypothesis for this test was whether there is a difference in registration rate between the 3 pictures shown to customers. According to this test, the null hypothesis is rejected because there is a signficant difference. The p value is extremely low so there is a low chance that the null hypothesis is true."
   ]
  },
  {
   "cell_type": "markdown",
   "metadata": {},
   "source": [
    "Statistical Test Write Up: \n",
    "\n",
    "We have conducted t-tests as well as a chi-squared test in order to determine the best picture to show to potential customers through email marketing. \n",
    "\n",
    "First we looked at the site duration variable and tested out whether there was a signficant difference in the site duration for each of the pictures shown. We conducted 3 statistical t-tests in order to determine what picture had the highest signficant site duration amoung customers. The null hypothesis for each of the tests was that there was no signficant difference in the site duration based on the picture. The alternative hypthesis was that when shown one picture, people had a signficantly higher site duration than the people who were shown the other picture. In both the t tests where the \"Chili Peppers\" picture was compared to the other 2, the null hypothesis was rejected which means that the people who were shown the \"Chili Peppers\" picture had a significantly longer site duration than the people who were shown 1 of the other 2 pictures.\n",
    "\n",
    "Next we looked at the spend variable and tested out whether there was a signficant difference in the spending between the different pictures shown. We conducted 3 statistical t-tests in order to determine what picture was associated with the highest spending amoung customers. The null hypothesis for each of the tests was that there was no signficant difference in the spend variable based on the picture. The alternative hypthesis was that when shown one picture, people spent signficantly more  than the people who were shown the other picture. In both the t tests where the \"Chili Peppers\" picture was compared to the other 2, the null hypothesis was rejected which means that the people who were shown the \"Chili Peppers\" picture spent significantly more than the people who were shown 1 of the other 2 pictures.\n",
    "\n",
    "Lastly, we conducted a Chi-Squared test to determine if there was a difference in the registration rate between the different pictures shown. The null hypothesis was that picture does not impact the likelihood of registration. The null hypothesis was rejected based on the results of this Chi-squared test. The p-value was extremely low which indicates that the probability that the null is true is low. The highest amount of registrations is associated with the \"Billie\" picture since 476 people registered after seeing that picture in the promotional email. \n",
    "\n",
    "After interpreting our results from these tests, we decided to recommend to Lobster Land that it would be best for them to send emails containing the Chili Peppers picture since that picture is associated with longer site duration as well as higher site spending for customers. We believe that the Chili Peppers picture provides the most value for their marketing campaign out of the 3 pictures.  \n",
    "\n"
   ]
  },
  {
   "cell_type": "code",
   "execution_count": null,
   "metadata": {},
   "outputs": [],
   "source": []
  }
 ],
 "metadata": {
  "kernelspec": {
   "display_name": "Python 3",
   "language": "python",
   "name": "python3"
  },
  "language_info": {
   "codemirror_mode": {
    "name": "ipython",
    "version": 3
   },
   "file_extension": ".py",
   "mimetype": "text/x-python",
   "name": "python",
   "nbconvert_exporter": "python",
   "pygments_lexer": "ipython3",
   "version": "3.8.5"
  }
 },
 "nbformat": 4,
 "nbformat_minor": 5
}
